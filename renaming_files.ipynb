{
 "cells": [
  {
   "cell_type": "code",
   "execution_count": 13,
   "metadata": {},
   "outputs": [
    {
     "name": "stdout",
     "output_type": "stream",
     "text": [
      "Renamed '1603176284-vanishingpoint.jpg' to 'image_1.jpg'\n",
      "Renamed 'maxresdefault.jpg' to 'image_2.jpg'\n",
      "Renamed 'pexels-photo-10622719.jpeg' to 'image_3.jpeg'\n",
      "Renamed 'vanishing-point-4468780__340.jpg' to 'image_4.jpg'\n"
     ]
    }
   ],
   "source": [
    "import os\n",
    "\n",
    "def rename_images(folder_path):\n",
    "    # Get a list of all files in the folder\n",
    "    files = os.listdir(folder_path)\n",
    "    \n",
    "    # Filter out non-image files if needed\n",
    "    image_files = [file for file in files if file.lower().endswith(('.png', '.jpg', '.jpeg', '.gif', '.bmp', '.tiff'))]\n",
    "    \n",
    "    # Sort the image files (optional, for consistent ordering)\n",
    "    image_files.sort()\n",
    "\n",
    "    # Rename the images\n",
    "    for index, file_name in enumerate(image_files, start=1):\n",
    "        # Get the file extension\n",
    "        extension = os.path.splitext(file_name)[1]\n",
    "        # Create the new file name\n",
    "        new_name = f\"image_{index}{extension}\"\n",
    "        # Construct full file paths\n",
    "        old_path = os.path.join(folder_path, file_name)\n",
    "        new_path = os.path.join(folder_path, new_name)\n",
    "        # Rename the file\n",
    "        os.rename(old_path, new_path)\n",
    "        print(f\"Renamed '{file_name}' to '{new_name}'\")\n",
    "\n",
    "# Example usage\n",
    "folder_path = r'C:\\Users\\khand\\OneDrive\\Desktop\\ogmen_robotics\\Estimate_vanishing_points_data'  # Your folder path\n",
    "rename_images(folder_path)\n"
   ]
  },
  {
   "cell_type": "code",
   "execution_count": null,
   "metadata": {},
   "outputs": [],
   "source": []
  }
 ],
 "metadata": {
  "kernelspec": {
   "display_name": "Python 3",
   "language": "python",
   "name": "python3"
  },
  "language_info": {
   "codemirror_mode": {
    "name": "ipython",
    "version": 3
   },
   "file_extension": ".py",
   "mimetype": "text/x-python",
   "name": "python",
   "nbconvert_exporter": "python",
   "pygments_lexer": "ipython3",
   "version": "3.12.3"
  }
 },
 "nbformat": 4,
 "nbformat_minor": 2
}
